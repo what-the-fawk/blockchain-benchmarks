{
 "cells": [
  {
   "cell_type": "code",
   "execution_count": 1,
   "metadata": {},
   "outputs": [],
   "source": [
    "import pandas as pd\n",
    "import numpy as np\n",
    "from sklearn.decomposition import PCA\n",
    "from feature_importance import shap_feature_importance"
   ]
  },
  {
   "cell_type": "code",
   "execution_count": 2,
   "metadata": {},
   "outputs": [],
   "source": [
    "X = pd.read_csv('../artefacts_copy/BO_initial_X', header=None)\n",
    "X.columns = ['feature_' + str(i) for i in range(X.shape[1])]\n",
    "X = X.iloc[:, :-1]\n",
    "X = X.iloc[:len(X.columns), :]\n",
    "\n",
    "y = pd.read_csv('../artefacts_copy/BO_initial_Y', header=None).iloc[:len(X.columns), :]\n",
    "y.columns = ['target']"
   ]
  },
  {
   "cell_type": "code",
   "execution_count": 3,
   "metadata": {},
   "outputs": [
    {
     "data": {
      "text/plain": [
       "((317, 317), (317, 1))"
      ]
     },
     "execution_count": 3,
     "metadata": {},
     "output_type": "execute_result"
    }
   ],
   "source": [
    "X.shape, y.shape"
   ]
  },
  {
   "cell_type": "code",
   "execution_count": 4,
   "metadata": {},
   "outputs": [
    {
     "name": "stdout",
     "output_type": "stream",
     "text": [
      "Setting model type to: BO\n",
      "[{'name': 'Orderer.BatchSize.AbsoluteMaxBytes|MB', 'type': 'discrete', 'bounds': (63, 122), 'config idx': 0, 'default value': 99}, {'name': 'Orderer.BatchSize.MaxMessageCount', 'type': 'discrete', 'bounds': (7, 18), 'config idx': 0, 'default value': 10}, {'name': 'Orderer.BatchSize.PreferredMaxBytes|KB', 'type': 'discrete', 'bounds': (357, 668), 'config idx': 0, 'default value': 512}]\n"
     ]
    },
    {
     "data": {
      "text/plain": [
       "317"
      ]
     },
     "execution_count": 4,
     "metadata": {},
     "output_type": "execute_result"
    }
   ],
   "source": [
    "from domain import read_configs, controllable_params, transform_domain\n",
    "from globals import set_model_type\n",
    "\n",
    "set_model_type('BO')\n",
    "\n",
    "read_configs([\n",
    "        \"../networks/configtx/configtx.yaml\",\n",
    "        \"../networks/compose/docker/peercfg-org1/core.yaml\",\n",
    "        \"../networks/compose/docker/peercfg-org2/core.yaml\",\n",
    "        \"../networks/compose/docker/peercfg-org3/core.yaml\",\n",
    "        \"../networks/compose/docker/peercfg-org4/core.yaml\",\n",
    "        # \"../networks/compose/docker/ordcfg/orderer.yaml\",\n",
    "])\n",
    "\n",
    "domain = controllable_params\n",
    "print(domain[:3])\n",
    "len(domain)"
   ]
  },
  {
   "cell_type": "code",
   "execution_count": 5,
   "metadata": {},
   "outputs": [],
   "source": [
    "input_transformer = lambda x: x\n",
    "output_transformer = lambda x: x\n",
    "\n",
    "def set_input_transformer(input_transformer_arg):\n",
    "    global input_transformer\n",
    "    input_transformer = input_transformer_arg\n",
    "\n",
    "def set_output_transformer(output_transformer_arg):\n",
    "    global output_transformer\n",
    "    output_transformer = output_transformer_arg\n",
    "\n",
    "\n",
    "def objective(x):\n",
    "    print(\"Objective called\")\n",
    "    print(\"X:\", x.shape)\n",
    "    x = input_transformer(x)\n",
    "    print(\"Transformed X:\", x.shape)\n",
    "    # benchmark\n",
    "    return_value = 1.1\n",
    "    print(\"Return value:\", return_value)\n",
    "    return_value = output_transformer(return_value)\n",
    "    print(\"Transformed return value:\", return_value)\n",
    "    return return_value"
   ]
  },
  {
   "cell_type": "code",
   "execution_count": 6,
   "metadata": {},
   "outputs": [],
   "source": [
    "from pySOT.surrogate import GPRegressor\n",
    "from pySOT.strategy import DYCORSStrategy\n",
    "from poap.controller import SerialController\n",
    "from pySOT.optimization_problems import OptimizationProblem\n",
    "from sklearn.gaussian_process import GaussianProcessRegressor\n",
    "from pySOT.experimental_design.experimental_design import ExperimentalDesign\n",
    "\n",
    "def init_DYCORS(domain, n_trials, X, y):\n",
    "\n",
    "    class CustomProblem(OptimizationProblem): \n",
    "        def __init__(self, dim):\n",
    "            self.dim = dim\n",
    "            self.lb = np.array([item['bounds'][0] for item in domain])\n",
    "            self.ub = np.array([item['bounds'][1] for item in domain])\n",
    "            self.cont_var = np.array([i for i, item in enumerate(domain) if item['type'] == 'continuous'])\n",
    "            self.int_var = np.array([i for i, item in enumerate(domain) if item['type'] == 'discrete'])\n",
    "            self.info = \"Hyperledger Fabric Tuning\"\n",
    "\n",
    "            # print(\"CustomProblem initialized with dim:\", dim)\n",
    "            # print(\"Lower bounds:\", len(self.lb))\n",
    "            # print(\"Upper bounds:\", len(self.ub))\n",
    "\n",
    "        def eval(self, x):\n",
    "            return objective(x)\n",
    "            \n",
    "    class PrecomputedDesign(ExperimentalDesign):\n",
    "        def __init__(self, dim, X):\n",
    "            self.dim = dim\n",
    "            self.num_pts = dim\n",
    "            self.X = X\n",
    "\n",
    "        def generate_points(self, lb, ub, int_var=None):\n",
    "            return self.X\n",
    "            \n",
    "\n",
    "    lb = np.array([item['bounds'][0] for item in domain])\n",
    "    ub = np.array([item['bounds'][-1] for item in domain])\n",
    "    regressor = GaussianProcessRegressor(random_state=13)\n",
    "    regressor.fit(X, y)\n",
    "\n",
    "    regressor_dycors = GPRegressor(dim=len(domain), lb=lb, ub=ub, gp=regressor)\n",
    "    problem = CustomProblem(dim=len(domain))\n",
    "    design = PrecomputedDesign(dim=len(domain), X=X)\n",
    "\n",
    "    strat = DYCORSStrategy(max_evals=len(domain) + n_trials,\n",
    "                       surrogate=regressor_dycors,\n",
    "                       opt_prob=problem,\n",
    "                       exp_design=design,\n",
    "                       asynchronous=False,\n",
    "                       batch_size=1,\n",
    "                       num_cand=1,\n",
    "                       )\n",
    "    opt = SerialController(objective=problem.eval)\n",
    "    opt.strategy = strat\n",
    "\n",
    "    return opt"
   ]
  },
  {
   "cell_type": "code",
   "execution_count": 7,
   "metadata": {},
   "outputs": [],
   "source": [
    "import GPyOpt\n",
    "\n",
    "def init_BO(domain, X, y, acquisition_type='EI'): # or LCB or MPI\n",
    "\n",
    "    opt = GPyOpt.methods.BayesianOptimization(\n",
    "            f=objective,\n",
    "            domain=transform_domain(domain),\n",
    "            acquisition_type=acquisition_type, \n",
    "            initial_design_type='random', # placeholder\n",
    "            initial_design_numdata=1,\n",
    "            maximize=True,\n",
    "            num_cores=6,\n",
    "            X=X,\n",
    "            Y=y\n",
    "    )\n",
    "\n",
    "#     opt.run_optimization(max_iter=0)\n",
    "\n",
    "    return opt"
   ]
  },
  {
   "cell_type": "code",
   "execution_count": 8,
   "metadata": {},
   "outputs": [],
   "source": [
    "from typing import List, Tuple\n",
    "from feature_importance import pca_feature_importance, sa_feature_importance"
   ]
  },
  {
   "cell_type": "code",
   "execution_count": 21,
   "metadata": {},
   "outputs": [],
   "source": [
    "# def transform_domain(controllable_params):\n",
    "from typing import Callable\n",
    "\n",
    "#TODO: random\n",
    "class BayesianOptimizer:\n",
    "    def __init__(self,\n",
    "                X: pd.DataFrame,\n",
    "                y: pd.DataFrame,\n",
    "                domain: list,\n",
    "                AF: str,\n",
    "                DR: str,\n",
    "                n_iter: int,\n",
    "                n_relevant_features: int = 15,\n",
    "                ):\n",
    "        \n",
    "        self.__check_params(AF, DR)\n",
    "        \n",
    "        self.X = X\n",
    "        self.y = y\n",
    "        self.AF = AF\n",
    "        self.DR = DR\n",
    "        self.domain = domain\n",
    "        self.n_relevant_features = n_relevant_features\n",
    "        self.model = None\n",
    "        self.n_iter = n_iter\n",
    "\n",
    "        self.__init_model()\n",
    "\n",
    "    def __select_important_features(self):\n",
    "        if self.DR == 'shap':\n",
    "            return shap_feature_importance(self.X, self.y).head(self.n_relevant_features).index.to_list()\n",
    "        elif self.DR == 'pca':\n",
    "            return pca_feature_importance(self.X, self.y).head(self.n_relevant_features).index.to_list()\n",
    "        elif self.DR == 'sa':\n",
    "            return sa_feature_importance(self.X, self.y, [item['bounds'] for item in self.domain]).head(self.n_relevant_features).index.to_list()\n",
    "        else:\n",
    "            raise ValueError(f\"Variable selection for {self.DR} is not supported\")\n",
    "        \n",
    "    def __check_params(self, AF: str, DR: str):    \n",
    "        if AF not in ['EI', 'UCB', 'MPI', 'DYCORS']:\n",
    "            raise ValueError(f\"Acquisition function {AF} not supported\")\n",
    "        if DR not in ['shap', 'pca', 'sa', 'rembo']:\n",
    "            raise ValueError(f\"Dimension reduction technique {DR} not supported\")\n",
    "\n",
    "\n",
    "    def __init_model(self):\n",
    "        self.model = None\n",
    "\n",
    "        if self.DR in ['shap', 'pca', 'sa']:\n",
    "            indices = self.__select_important_features()\n",
    "            self.domain = [self.domain[i] for i in indices]\n",
    "            self.X = self.X.iloc[:, indices]\n",
    "        \n",
    "        elif self.DR == 'rembo':\n",
    "            self.projection = np.random.normal(size=(len(domain), self.n_relevant_features))\n",
    "            # pinv = np.linalg.pinv(self.projection)\n",
    "            # print(self.X.shape)\n",
    "            # self.X = self.X.to_numpy() @ pinv.T\n",
    "            # print(self.X.shape)\n",
    "\n",
    "            lb = np.array([item['bounds'][0] for item in self.domain])\n",
    "            ub = np.array([item['bounds'][1] for item in self.domain])\n",
    "            # set_input_transformer(lambda x: np.clip(self.projection.copy() @ x, lb.copy(), ub.copy()))\n",
    "\n",
    "        elif self.DR == 'sir':\n",
    "            raise NotImplementedError(\"SIR is not implemented yet\")\n",
    "\n",
    "        else:\n",
    "            raise ValueError(f\"Dimension reduction technique {self.DR} not supported\")\n",
    "        \n",
    "        if self.AF in ['EI', 'MPI']:\n",
    "            pass\n",
    "\n",
    "        elif self.AF == 'UCB':\n",
    "            set_output_transformer(lambda x: -x)\n",
    "            self.AF = 'LCB'\n",
    "\n",
    "        if self.AF == 'DYCORS':\n",
    "            # init DYCORS\n",
    "            self.model = init_DYCORS(self.domain, n_trials=self.n_iter, X=self.X, y=self.y)\n",
    "        else:\n",
    "            # init GPyOpt BO\n",
    "            self.model = init_BO(self.domain, self.X.to_numpy(), self.y.to_numpy(), acquisition_type=self.AF)\n",
    "\n",
    "    def run(self):\n",
    "        if self.AF == 'DYCORS':\n",
    "            self.model.run()\n",
    "        else:\n",
    "            self.model.run_optimization(max_iter=self.n_iter)\n",
    "        pass\n",
    "    "
   ]
  },
  {
   "cell_type": "code",
   "execution_count": 22,
   "metadata": {},
   "outputs": [
    {
     "name": "stdout",
     "output_type": "stream",
     "text": [
      "Running DYCORS with rembo\n"
     ]
    },
    {
     "ename": "InvalidIndexError",
     "evalue": "(0, slice(None, None, None))",
     "output_type": "error",
     "traceback": [
      "\u001b[0;31m---------------------------------------------------------------------------\u001b[0m",
      "\u001b[0;31mTypeError\u001b[0m                                 Traceback (most recent call last)",
      "File \u001b[0;32m~/.local/lib/python3.10/site-packages/pandas/core/indexes/base.py:3802\u001b[0m, in \u001b[0;36mIndex.get_loc\u001b[0;34m(self, key, method, tolerance)\u001b[0m\n\u001b[1;32m   3801\u001b[0m \u001b[38;5;28;01mtry\u001b[39;00m:\n\u001b[0;32m-> 3802\u001b[0m     \u001b[38;5;28;01mreturn\u001b[39;00m \u001b[38;5;28;43mself\u001b[39;49m\u001b[38;5;241;43m.\u001b[39;49m\u001b[43m_engine\u001b[49m\u001b[38;5;241;43m.\u001b[39;49m\u001b[43mget_loc\u001b[49m\u001b[43m(\u001b[49m\u001b[43mcasted_key\u001b[49m\u001b[43m)\u001b[49m\n\u001b[1;32m   3803\u001b[0m \u001b[38;5;28;01mexcept\u001b[39;00m \u001b[38;5;167;01mKeyError\u001b[39;00m \u001b[38;5;28;01mas\u001b[39;00m err:\n",
      "File \u001b[0;32m~/.local/lib/python3.10/site-packages/pandas/_libs/index.pyx:138\u001b[0m, in \u001b[0;36mpandas._libs.index.IndexEngine.get_loc\u001b[0;34m()\u001b[0m\n",
      "File \u001b[0;32m~/.local/lib/python3.10/site-packages/pandas/_libs/index.pyx:144\u001b[0m, in \u001b[0;36mpandas._libs.index.IndexEngine.get_loc\u001b[0;34m()\u001b[0m\n",
      "\u001b[0;31mTypeError\u001b[0m: '(0, slice(None, None, None))' is an invalid key",
      "\nDuring handling of the above exception, another exception occurred:\n",
      "\u001b[0;31mInvalidIndexError\u001b[0m                         Traceback (most recent call last)",
      "Cell \u001b[0;32mIn[22], line 4\u001b[0m\n\u001b[1;32m      2\u001b[0m \u001b[38;5;28;01mfor\u001b[39;00m DR \u001b[38;5;129;01min\u001b[39;00m [\u001b[38;5;124m'\u001b[39m\u001b[38;5;124mrembo\u001b[39m\u001b[38;5;124m'\u001b[39m]:\n\u001b[1;32m      3\u001b[0m     \u001b[38;5;28mprint\u001b[39m(\u001b[38;5;124mf\u001b[39m\u001b[38;5;124m\"\u001b[39m\u001b[38;5;124mRunning \u001b[39m\u001b[38;5;132;01m{\u001b[39;00mAF\u001b[38;5;132;01m}\u001b[39;00m\u001b[38;5;124m with \u001b[39m\u001b[38;5;132;01m{\u001b[39;00mDR\u001b[38;5;132;01m}\u001b[39;00m\u001b[38;5;124m\"\u001b[39m)\n\u001b[0;32m----> 4\u001b[0m     bo \u001b[38;5;241m=\u001b[39m \u001b[43mBayesianOptimizer\u001b[49m\u001b[43m(\u001b[49m\u001b[43mX\u001b[49m\u001b[43m,\u001b[49m\u001b[43m \u001b[49m\u001b[43my\u001b[49m\u001b[43m,\u001b[49m\u001b[43m \u001b[49m\u001b[43mdomain\u001b[49m\u001b[43m,\u001b[49m\u001b[43m \u001b[49m\u001b[43mAF\u001b[49m\u001b[43m,\u001b[49m\u001b[43m \u001b[49m\u001b[43mDR\u001b[49m\u001b[43m,\u001b[49m\u001b[43m \u001b[49m\u001b[43mn_iter\u001b[49m\u001b[38;5;241;43m=\u001b[39;49m\u001b[38;5;241;43m3\u001b[39;49m\u001b[43m)\u001b[49m\n\u001b[1;32m      5\u001b[0m     bo\u001b[38;5;241m.\u001b[39mrun()\n",
      "Cell \u001b[0;32mIn[21], line 27\u001b[0m, in \u001b[0;36mBayesianOptimizer.__init__\u001b[0;34m(self, X, y, domain, AF, DR, n_iter, n_relevant_features)\u001b[0m\n\u001b[1;32m     24\u001b[0m \u001b[38;5;28mself\u001b[39m\u001b[38;5;241m.\u001b[39mmodel \u001b[38;5;241m=\u001b[39m \u001b[38;5;28;01mNone\u001b[39;00m\n\u001b[1;32m     25\u001b[0m \u001b[38;5;28mself\u001b[39m\u001b[38;5;241m.\u001b[39mn_iter \u001b[38;5;241m=\u001b[39m n_iter\n\u001b[0;32m---> 27\u001b[0m \u001b[38;5;28;43mself\u001b[39;49m\u001b[38;5;241;43m.\u001b[39;49m\u001b[43m__init_model\u001b[49m\u001b[43m(\u001b[49m\u001b[43m)\u001b[49m\n",
      "Cell \u001b[0;32mIn[21], line 80\u001b[0m, in \u001b[0;36mBayesianOptimizer.__init_model\u001b[0;34m(self)\u001b[0m\n\u001b[1;32m     76\u001b[0m     \u001b[38;5;28mself\u001b[39m\u001b[38;5;241m.\u001b[39mAF \u001b[38;5;241m=\u001b[39m \u001b[38;5;124m'\u001b[39m\u001b[38;5;124mLCB\u001b[39m\u001b[38;5;124m'\u001b[39m\n\u001b[1;32m     78\u001b[0m \u001b[38;5;28;01mif\u001b[39;00m \u001b[38;5;28mself\u001b[39m\u001b[38;5;241m.\u001b[39mAF \u001b[38;5;241m==\u001b[39m \u001b[38;5;124m'\u001b[39m\u001b[38;5;124mDYCORS\u001b[39m\u001b[38;5;124m'\u001b[39m:\n\u001b[1;32m     79\u001b[0m     \u001b[38;5;66;03m# init DYCORS\u001b[39;00m\n\u001b[0;32m---> 80\u001b[0m     \u001b[38;5;28mself\u001b[39m\u001b[38;5;241m.\u001b[39mmodel \u001b[38;5;241m=\u001b[39m \u001b[43minit_DYCORS\u001b[49m\u001b[43m(\u001b[49m\u001b[38;5;28;43mself\u001b[39;49m\u001b[38;5;241;43m.\u001b[39;49m\u001b[43mdomain\u001b[49m\u001b[43m,\u001b[49m\u001b[43m \u001b[49m\u001b[43mn_trials\u001b[49m\u001b[38;5;241;43m=\u001b[39;49m\u001b[38;5;28;43mself\u001b[39;49m\u001b[38;5;241;43m.\u001b[39;49m\u001b[43mn_iter\u001b[49m\u001b[43m,\u001b[49m\u001b[43m \u001b[49m\u001b[43mX\u001b[49m\u001b[38;5;241;43m=\u001b[39;49m\u001b[38;5;28;43mself\u001b[39;49m\u001b[38;5;241;43m.\u001b[39;49m\u001b[43mX\u001b[49m\u001b[43m,\u001b[49m\u001b[43m \u001b[49m\u001b[43my\u001b[49m\u001b[38;5;241;43m=\u001b[39;49m\u001b[38;5;28;43mself\u001b[39;49m\u001b[38;5;241;43m.\u001b[39;49m\u001b[43my\u001b[49m\u001b[43m)\u001b[49m\n\u001b[1;32m     81\u001b[0m \u001b[38;5;28;01melse\u001b[39;00m:\n\u001b[1;32m     82\u001b[0m     \u001b[38;5;66;03m# init GPyOpt BO\u001b[39;00m\n\u001b[1;32m     83\u001b[0m     \u001b[38;5;28mself\u001b[39m\u001b[38;5;241m.\u001b[39mmodel \u001b[38;5;241m=\u001b[39m init_BO(\u001b[38;5;28mself\u001b[39m\u001b[38;5;241m.\u001b[39mdomain, \u001b[38;5;28mself\u001b[39m\u001b[38;5;241m.\u001b[39mX\u001b[38;5;241m.\u001b[39mto_numpy(), \u001b[38;5;28mself\u001b[39m\u001b[38;5;241m.\u001b[39my\u001b[38;5;241m.\u001b[39mto_numpy(), acquisition_type\u001b[38;5;241m=\u001b[39m\u001b[38;5;28mself\u001b[39m\u001b[38;5;241m.\u001b[39mAF)\n",
      "Cell \u001b[0;32mIn[6], line 45\u001b[0m, in \u001b[0;36minit_DYCORS\u001b[0;34m(domain, n_trials, X, y)\u001b[0m\n\u001b[1;32m     42\u001b[0m problem \u001b[38;5;241m=\u001b[39m CustomProblem(dim\u001b[38;5;241m=\u001b[39m\u001b[38;5;28mlen\u001b[39m(domain))\n\u001b[1;32m     43\u001b[0m design \u001b[38;5;241m=\u001b[39m PrecomputedDesign(dim\u001b[38;5;241m=\u001b[39m\u001b[38;5;28mlen\u001b[39m(domain), X\u001b[38;5;241m=\u001b[39mX)\n\u001b[0;32m---> 45\u001b[0m strat \u001b[38;5;241m=\u001b[39m \u001b[43mDYCORSStrategy\u001b[49m\u001b[43m(\u001b[49m\u001b[43mmax_evals\u001b[49m\u001b[38;5;241;43m=\u001b[39;49m\u001b[38;5;28;43mlen\u001b[39;49m\u001b[43m(\u001b[49m\u001b[43mdomain\u001b[49m\u001b[43m)\u001b[49m\u001b[43m \u001b[49m\u001b[38;5;241;43m+\u001b[39;49m\u001b[43m \u001b[49m\u001b[43mn_trials\u001b[49m\u001b[43m,\u001b[49m\n\u001b[1;32m     46\u001b[0m \u001b[43m                   \u001b[49m\u001b[43msurrogate\u001b[49m\u001b[38;5;241;43m=\u001b[39;49m\u001b[43mregressor_dycors\u001b[49m\u001b[43m,\u001b[49m\n\u001b[1;32m     47\u001b[0m \u001b[43m                   \u001b[49m\u001b[43mopt_prob\u001b[49m\u001b[38;5;241;43m=\u001b[39;49m\u001b[43mproblem\u001b[49m\u001b[43m,\u001b[49m\n\u001b[1;32m     48\u001b[0m \u001b[43m                   \u001b[49m\u001b[43mexp_design\u001b[49m\u001b[38;5;241;43m=\u001b[39;49m\u001b[43mdesign\u001b[49m\u001b[43m,\u001b[49m\n\u001b[1;32m     49\u001b[0m \u001b[43m                   \u001b[49m\u001b[43masynchronous\u001b[49m\u001b[38;5;241;43m=\u001b[39;49m\u001b[38;5;28;43;01mFalse\u001b[39;49;00m\u001b[43m,\u001b[49m\n\u001b[1;32m     50\u001b[0m \u001b[43m                   \u001b[49m\u001b[43mbatch_size\u001b[49m\u001b[38;5;241;43m=\u001b[39;49m\u001b[38;5;241;43m1\u001b[39;49m\u001b[43m,\u001b[49m\n\u001b[1;32m     51\u001b[0m \u001b[43m                   \u001b[49m\u001b[43mnum_cand\u001b[49m\u001b[38;5;241;43m=\u001b[39;49m\u001b[38;5;241;43m1\u001b[39;49m\u001b[43m,\u001b[49m\n\u001b[1;32m     52\u001b[0m \u001b[43m                   \u001b[49m\u001b[43m)\u001b[49m\n\u001b[1;32m     53\u001b[0m opt \u001b[38;5;241m=\u001b[39m SerialController(objective\u001b[38;5;241m=\u001b[39mproblem\u001b[38;5;241m.\u001b[39meval)\n\u001b[1;32m     54\u001b[0m opt\u001b[38;5;241m.\u001b[39mstrategy \u001b[38;5;241m=\u001b[39m strat\n",
      "File \u001b[0;32m~/.local/lib/python3.10/site-packages/pySOT/strategy/dycors_strategy.py:70\u001b[0m, in \u001b[0;36mDYCORSStrategy.__init__\u001b[0;34m(self, max_evals, opt_prob, exp_design, surrogate, asynchronous, batch_size, extra_points, extra_vals, use_restarts, weights, num_cand)\u001b[0m\n\u001b[1;32m     53\u001b[0m \u001b[38;5;28;01mdef\u001b[39;00m \u001b[38;5;21m__init__\u001b[39m(\n\u001b[1;32m     54\u001b[0m     \u001b[38;5;28mself\u001b[39m,\n\u001b[1;32m     55\u001b[0m     max_evals,\n\u001b[0;32m   (...)\u001b[0m\n\u001b[1;32m     65\u001b[0m     num_cand\u001b[38;5;241m=\u001b[39m\u001b[38;5;28;01mNone\u001b[39;00m,\n\u001b[1;32m     66\u001b[0m ):\n\u001b[1;32m     68\u001b[0m     \u001b[38;5;28mself\u001b[39m\u001b[38;5;241m.\u001b[39mnum_exp \u001b[38;5;241m=\u001b[39m exp_design\u001b[38;5;241m.\u001b[39mnum_pts  \u001b[38;5;66;03m# We need this later\u001b[39;00m\n\u001b[0;32m---> 70\u001b[0m     \u001b[38;5;28;43msuper\u001b[39;49m\u001b[43m(\u001b[49m\u001b[43m)\u001b[49m\u001b[38;5;241;43m.\u001b[39;49m\u001b[38;5;21;43m__init__\u001b[39;49m\u001b[43m(\u001b[49m\n\u001b[1;32m     71\u001b[0m \u001b[43m        \u001b[49m\u001b[43mmax_evals\u001b[49m\u001b[38;5;241;43m=\u001b[39;49m\u001b[43mmax_evals\u001b[49m\u001b[43m,\u001b[49m\n\u001b[1;32m     72\u001b[0m \u001b[43m        \u001b[49m\u001b[43mopt_prob\u001b[49m\u001b[38;5;241;43m=\u001b[39;49m\u001b[43mopt_prob\u001b[49m\u001b[43m,\u001b[49m\n\u001b[1;32m     73\u001b[0m \u001b[43m        \u001b[49m\u001b[43mexp_design\u001b[49m\u001b[38;5;241;43m=\u001b[39;49m\u001b[43mexp_design\u001b[49m\u001b[43m,\u001b[49m\n\u001b[1;32m     74\u001b[0m \u001b[43m        \u001b[49m\u001b[43msurrogate\u001b[49m\u001b[38;5;241;43m=\u001b[39;49m\u001b[43msurrogate\u001b[49m\u001b[43m,\u001b[49m\n\u001b[1;32m     75\u001b[0m \u001b[43m        \u001b[49m\u001b[43masynchronous\u001b[49m\u001b[38;5;241;43m=\u001b[39;49m\u001b[43masynchronous\u001b[49m\u001b[43m,\u001b[49m\n\u001b[1;32m     76\u001b[0m \u001b[43m        \u001b[49m\u001b[43mbatch_size\u001b[49m\u001b[38;5;241;43m=\u001b[39;49m\u001b[43mbatch_size\u001b[49m\u001b[43m,\u001b[49m\n\u001b[1;32m     77\u001b[0m \u001b[43m        \u001b[49m\u001b[43mextra_points\u001b[49m\u001b[38;5;241;43m=\u001b[39;49m\u001b[43mextra_points\u001b[49m\u001b[43m,\u001b[49m\n\u001b[1;32m     78\u001b[0m \u001b[43m        \u001b[49m\u001b[43mextra_vals\u001b[49m\u001b[38;5;241;43m=\u001b[39;49m\u001b[43mextra_vals\u001b[49m\u001b[43m,\u001b[49m\n\u001b[1;32m     79\u001b[0m \u001b[43m        \u001b[49m\u001b[43muse_restarts\u001b[49m\u001b[38;5;241;43m=\u001b[39;49m\u001b[43muse_restarts\u001b[49m\u001b[43m,\u001b[49m\n\u001b[1;32m     80\u001b[0m \u001b[43m        \u001b[49m\u001b[43mweights\u001b[49m\u001b[38;5;241;43m=\u001b[39;49m\u001b[43mweights\u001b[49m\u001b[43m,\u001b[49m\n\u001b[1;32m     81\u001b[0m \u001b[43m        \u001b[49m\u001b[43mnum_cand\u001b[49m\u001b[38;5;241;43m=\u001b[39;49m\u001b[43mnum_cand\u001b[49m\u001b[43m,\u001b[49m\n\u001b[1;32m     82\u001b[0m \u001b[43m    \u001b[49m\u001b[43m)\u001b[49m\n",
      "File \u001b[0;32m~/.local/lib/python3.10/site-packages/pySOT/strategy/srbf_strategy.py:124\u001b[0m, in \u001b[0;36mSRBFStrategy.__init__\u001b[0;34m(self, max_evals, opt_prob, exp_design, surrogate, asynchronous, batch_size, extra_points, extra_vals, use_restarts, weights, num_cand)\u001b[0m\n\u001b[1;32m    120\u001b[0m \u001b[38;5;28mself\u001b[39m\u001b[38;5;241m.\u001b[39mmaxfailtol \u001b[38;5;241m=\u001b[39m \u001b[38;5;241m4\u001b[39m \u001b[38;5;241m*\u001b[39m \u001b[38;5;28mself\u001b[39m\u001b[38;5;241m.\u001b[39mfailtol\n\u001b[1;32m    122\u001b[0m \u001b[38;5;28mself\u001b[39m\u001b[38;5;241m.\u001b[39mrecord_queue \u001b[38;5;241m=\u001b[39m []  \u001b[38;5;66;03m# Completed records that haven't been processed\u001b[39;00m\n\u001b[0;32m--> 124\u001b[0m \u001b[38;5;28;43msuper\u001b[39;49m\u001b[43m(\u001b[49m\u001b[43m)\u001b[49m\u001b[38;5;241;43m.\u001b[39;49m\u001b[38;5;21;43m__init__\u001b[39;49m\u001b[43m(\u001b[49m\n\u001b[1;32m    125\u001b[0m \u001b[43m    \u001b[49m\u001b[43mmax_evals\u001b[49m\u001b[38;5;241;43m=\u001b[39;49m\u001b[43mmax_evals\u001b[49m\u001b[43m,\u001b[49m\n\u001b[1;32m    126\u001b[0m \u001b[43m    \u001b[49m\u001b[43mopt_prob\u001b[49m\u001b[38;5;241;43m=\u001b[39;49m\u001b[43mopt_prob\u001b[49m\u001b[43m,\u001b[49m\n\u001b[1;32m    127\u001b[0m \u001b[43m    \u001b[49m\u001b[43mexp_design\u001b[49m\u001b[38;5;241;43m=\u001b[39;49m\u001b[43mexp_design\u001b[49m\u001b[43m,\u001b[49m\n\u001b[1;32m    128\u001b[0m \u001b[43m    \u001b[49m\u001b[43msurrogate\u001b[49m\u001b[38;5;241;43m=\u001b[39;49m\u001b[43msurrogate\u001b[49m\u001b[43m,\u001b[49m\n\u001b[1;32m    129\u001b[0m \u001b[43m    \u001b[49m\u001b[43masynchronous\u001b[49m\u001b[38;5;241;43m=\u001b[39;49m\u001b[43masynchronous\u001b[49m\u001b[43m,\u001b[49m\n\u001b[1;32m    130\u001b[0m \u001b[43m    \u001b[49m\u001b[43mbatch_size\u001b[49m\u001b[38;5;241;43m=\u001b[39;49m\u001b[43mbatch_size\u001b[49m\u001b[43m,\u001b[49m\n\u001b[1;32m    131\u001b[0m \u001b[43m    \u001b[49m\u001b[43mextra_points\u001b[49m\u001b[38;5;241;43m=\u001b[39;49m\u001b[43mextra_points\u001b[49m\u001b[43m,\u001b[49m\n\u001b[1;32m    132\u001b[0m \u001b[43m    \u001b[49m\u001b[43mextra_vals\u001b[49m\u001b[38;5;241;43m=\u001b[39;49m\u001b[43mextra_vals\u001b[49m\u001b[43m,\u001b[49m\n\u001b[1;32m    133\u001b[0m \u001b[43m    \u001b[49m\u001b[43muse_restarts\u001b[49m\u001b[38;5;241;43m=\u001b[39;49m\u001b[43muse_restarts\u001b[49m\u001b[43m,\u001b[49m\n\u001b[1;32m    134\u001b[0m \u001b[43m\u001b[49m\u001b[43m)\u001b[49m\n",
      "File \u001b[0;32m~/.local/lib/python3.10/site-packages/pySOT/strategy/surrogate_strategy.py:140\u001b[0m, in \u001b[0;36mSurrogateBaseStrategy.__init__\u001b[0;34m(self, max_evals, opt_prob, exp_design, surrogate, asynchronous, batch_size, extra_points, extra_vals, use_restarts)\u001b[0m\n\u001b[1;32m    137\u001b[0m \u001b[38;5;28mself\u001b[39m\u001b[38;5;241m.\u001b[39mcheck_input()\n\u001b[1;32m    139\u001b[0m \u001b[38;5;66;03m# Start with first experimental design\u001b[39;00m\n\u001b[0;32m--> 140\u001b[0m \u001b[38;5;28;43mself\u001b[39;49m\u001b[38;5;241;43m.\u001b[39;49m\u001b[43msample_initial\u001b[49m\u001b[43m(\u001b[49m\u001b[43m)\u001b[49m\n",
      "File \u001b[0;32m~/.local/lib/python3.10/site-packages/pySOT/strategy/srbf_strategy.py:144\u001b[0m, in \u001b[0;36mSRBFStrategy.sample_initial\u001b[0;34m(self)\u001b[0m\n\u001b[1;32m    143\u001b[0m \u001b[38;5;28;01mdef\u001b[39;00m \u001b[38;5;21msample_initial\u001b[39m(\u001b[38;5;28mself\u001b[39m):\n\u001b[0;32m--> 144\u001b[0m     \u001b[38;5;28;43msuper\u001b[39;49m\u001b[43m(\u001b[49m\u001b[43m)\u001b[49m\u001b[38;5;241;43m.\u001b[39;49m\u001b[43msample_initial\u001b[49m\u001b[43m(\u001b[49m\u001b[43m)\u001b[49m\n\u001b[1;32m    145\u001b[0m     \u001b[38;5;28mself\u001b[39m\u001b[38;5;241m.\u001b[39mstatus \u001b[38;5;241m=\u001b[39m \u001b[38;5;241m0\u001b[39m  \u001b[38;5;66;03m# Status counter\u001b[39;00m\n\u001b[1;32m    146\u001b[0m     \u001b[38;5;28mself\u001b[39m\u001b[38;5;241m.\u001b[39mfailcount \u001b[38;5;241m=\u001b[39m \u001b[38;5;241m0\u001b[39m  \u001b[38;5;66;03m# Failure counter\u001b[39;00m\n",
      "File \u001b[0;32m~/.local/lib/python3.10/site-packages/pySOT/strategy/surrogate_strategy.py:236\u001b[0m, in \u001b[0;36mSurrogateBaseStrategy.sample_initial\u001b[0;34m(self)\u001b[0m\n\u001b[1;32m    233\u001b[0m \u001b[38;5;28;01massert\u001b[39;00m start_sample\u001b[38;5;241m.\u001b[39mshape[\u001b[38;5;241m1\u001b[39m] \u001b[38;5;241m==\u001b[39m \u001b[38;5;28mself\u001b[39m\u001b[38;5;241m.\u001b[39mopt_prob\u001b[38;5;241m.\u001b[39mdim, \u001b[38;5;124m\"\u001b[39m\u001b[38;5;124mDimension mismatch between problem and experimental design\u001b[39m\u001b[38;5;124m\"\u001b[39m\n\u001b[1;32m    235\u001b[0m \u001b[38;5;28;01mfor\u001b[39;00m j \u001b[38;5;129;01min\u001b[39;00m \u001b[38;5;28mrange\u001b[39m(\u001b[38;5;28mself\u001b[39m\u001b[38;5;241m.\u001b[39mexp_design\u001b[38;5;241m.\u001b[39mnum_pts):\n\u001b[0;32m--> 236\u001b[0m     \u001b[38;5;28mself\u001b[39m\u001b[38;5;241m.\u001b[39mbatch_queue\u001b[38;5;241m.\u001b[39mappend(\u001b[43mstart_sample\u001b[49m\u001b[43m[\u001b[49m\u001b[43mj\u001b[49m\u001b[43m,\u001b[49m\u001b[43m \u001b[49m\u001b[43m:\u001b[49m\u001b[43m]\u001b[49m)\n\u001b[1;32m    238\u001b[0m \u001b[38;5;66;03m# We only evaluate these points before the first restart\u001b[39;00m\n\u001b[1;32m    239\u001b[0m \u001b[38;5;28;01mif\u001b[39;00m \u001b[38;5;28mself\u001b[39m\u001b[38;5;241m.\u001b[39mextra_points \u001b[38;5;129;01mis\u001b[39;00m \u001b[38;5;129;01mnot\u001b[39;00m \u001b[38;5;28;01mNone\u001b[39;00m \u001b[38;5;129;01mand\u001b[39;00m \u001b[38;5;28mlen\u001b[39m(\u001b[38;5;28mself\u001b[39m\u001b[38;5;241m.\u001b[39mX) \u001b[38;5;241m==\u001b[39m \u001b[38;5;241m0\u001b[39m:\n",
      "File \u001b[0;32m~/.local/lib/python3.10/site-packages/pandas/core/frame.py:3807\u001b[0m, in \u001b[0;36mDataFrame.__getitem__\u001b[0;34m(self, key)\u001b[0m\n\u001b[1;32m   3805\u001b[0m \u001b[38;5;28;01mif\u001b[39;00m \u001b[38;5;28mself\u001b[39m\u001b[38;5;241m.\u001b[39mcolumns\u001b[38;5;241m.\u001b[39mnlevels \u001b[38;5;241m>\u001b[39m \u001b[38;5;241m1\u001b[39m:\n\u001b[1;32m   3806\u001b[0m     \u001b[38;5;28;01mreturn\u001b[39;00m \u001b[38;5;28mself\u001b[39m\u001b[38;5;241m.\u001b[39m_getitem_multilevel(key)\n\u001b[0;32m-> 3807\u001b[0m indexer \u001b[38;5;241m=\u001b[39m \u001b[38;5;28;43mself\u001b[39;49m\u001b[38;5;241;43m.\u001b[39;49m\u001b[43mcolumns\u001b[49m\u001b[38;5;241;43m.\u001b[39;49m\u001b[43mget_loc\u001b[49m\u001b[43m(\u001b[49m\u001b[43mkey\u001b[49m\u001b[43m)\u001b[49m\n\u001b[1;32m   3808\u001b[0m \u001b[38;5;28;01mif\u001b[39;00m is_integer(indexer):\n\u001b[1;32m   3809\u001b[0m     indexer \u001b[38;5;241m=\u001b[39m [indexer]\n",
      "File \u001b[0;32m~/.local/lib/python3.10/site-packages/pandas/core/indexes/base.py:3809\u001b[0m, in \u001b[0;36mIndex.get_loc\u001b[0;34m(self, key, method, tolerance)\u001b[0m\n\u001b[1;32m   3804\u001b[0m         \u001b[38;5;28;01mraise\u001b[39;00m \u001b[38;5;167;01mKeyError\u001b[39;00m(key) \u001b[38;5;28;01mfrom\u001b[39;00m \u001b[38;5;21;01merr\u001b[39;00m\n\u001b[1;32m   3805\u001b[0m     \u001b[38;5;28;01mexcept\u001b[39;00m \u001b[38;5;167;01mTypeError\u001b[39;00m:\n\u001b[1;32m   3806\u001b[0m         \u001b[38;5;66;03m# If we have a listlike key, _check_indexing_error will raise\u001b[39;00m\n\u001b[1;32m   3807\u001b[0m         \u001b[38;5;66;03m#  InvalidIndexError. Otherwise we fall through and re-raise\u001b[39;00m\n\u001b[1;32m   3808\u001b[0m         \u001b[38;5;66;03m#  the TypeError.\u001b[39;00m\n\u001b[0;32m-> 3809\u001b[0m         \u001b[38;5;28;43mself\u001b[39;49m\u001b[38;5;241;43m.\u001b[39;49m\u001b[43m_check_indexing_error\u001b[49m\u001b[43m(\u001b[49m\u001b[43mkey\u001b[49m\u001b[43m)\u001b[49m\n\u001b[1;32m   3810\u001b[0m         \u001b[38;5;28;01mraise\u001b[39;00m\n\u001b[1;32m   3812\u001b[0m \u001b[38;5;66;03m# GH#42269\u001b[39;00m\n",
      "File \u001b[0;32m~/.local/lib/python3.10/site-packages/pandas/core/indexes/base.py:5925\u001b[0m, in \u001b[0;36mIndex._check_indexing_error\u001b[0;34m(self, key)\u001b[0m\n\u001b[1;32m   5921\u001b[0m \u001b[38;5;28;01mdef\u001b[39;00m \u001b[38;5;21m_check_indexing_error\u001b[39m(\u001b[38;5;28mself\u001b[39m, key):\n\u001b[1;32m   5922\u001b[0m     \u001b[38;5;28;01mif\u001b[39;00m \u001b[38;5;129;01mnot\u001b[39;00m is_scalar(key):\n\u001b[1;32m   5923\u001b[0m         \u001b[38;5;66;03m# if key is not a scalar, directly raise an error (the code below\u001b[39;00m\n\u001b[1;32m   5924\u001b[0m         \u001b[38;5;66;03m# would convert to numpy arrays and raise later any way) - GH29926\u001b[39;00m\n\u001b[0;32m-> 5925\u001b[0m         \u001b[38;5;28;01mraise\u001b[39;00m InvalidIndexError(key)\n",
      "\u001b[0;31mInvalidIndexError\u001b[0m: (0, slice(None, None, None))"
     ]
    }
   ],
   "source": [
    "for AF in ['DYCORS', 'EI', 'UCB', 'MPI']:\n",
    "    for DR in ['rembo']:\n",
    "        print(f\"Running {AF} with {DR}\")\n",
    "        bo = BayesianOptimizer(X, y, domain, AF, DR, n_iter=3)\n",
    "        bo.run()"
   ]
  },
  {
   "cell_type": "code",
   "execution_count": null,
   "metadata": {},
   "outputs": [],
   "source": []
  }
 ],
 "metadata": {
  "kernelspec": {
   "display_name": "Python 3",
   "language": "python",
   "name": "python3"
  },
  "language_info": {
   "codemirror_mode": {
    "name": "ipython",
    "version": 3
   },
   "file_extension": ".py",
   "mimetype": "text/x-python",
   "name": "python",
   "nbconvert_exporter": "python",
   "pygments_lexer": "ipython3",
   "version": "3.10.12"
  }
 },
 "nbformat": 4,
 "nbformat_minor": 2
}
